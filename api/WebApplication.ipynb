{
 "cells": [
  {
   "cell_type": "code",
   "execution_count": 3,
   "metadata": {},
   "outputs": [],
   "source": [
    "# - *- coding: utf- 8 - *-\n",
    "from flask import Flask, render_template, redirect, url_for, request\n",
    "import requests as rq\n",
    "from flask_wtf import Form\n",
    "from wtforms import RadioField\n",
    "from wtforms import validators, ValidationError\n",
    "import joblib\n",
    "# from sklearn.externals import joblib\n",
    "from sklearn.feature_extraction.text import TfidfVectorizer\n",
    "import pandas as pd\n",
    "from nltk.corpus import stopwords\n",
    "# from google.cloud import translate\n",
    "from googletrans import Translator\n",
    "import nltk\n",
    "import os\n",
    "import re\n"
   ]
  },
  {
   "cell_type": "markdown",
   "metadata": {},
   "source": [
    "#### Functions defined for web page"
   ]
  },
  {
   "cell_type": "code",
   "execution_count": 4,
   "metadata": {},
   "outputs": [],
   "source": [
    "porter_stemmer = nltk.stem.porter.PorterStemmer()\n",
    "\n",
    "#spilts the sentences into words\n",
    "def porter_tokenizer(text, stemmer=porter_stemmer):\n",
    "    lower_txt = text.lower()\n",
    "    tokens = nltk.wordpunct_tokenize(lower_txt)\n",
    "    stems = [porter_stemmer.stem(t) for t in tokens]\n",
    "    no_punct = [s for s in stems if re.match('^[a-zA-Z]+$', s) is not None]\n",
    "    return no_punct\n",
    "\n",
    "stop_words = set(stopwords.words('english')) \n",
    "\n",
    "#vectorize the data\n",
    "def vectorizer():\n",
    "    # Load the model from the file \n",
    "    vect = joblib.load(os.getcwd()+'//data//vectorizer.pkl')\n",
    "    return vect\n",
    "\n",
    "#with the machine learning model\n",
    "def classifier():\n",
    "    # Load the model from the file \n",
    "    model_from_joblib = joblib.load(os.getcwd()+'//data//classifier.pkl')\n",
    "    return model_from_joblib\n",
    "\n",
    "#for translating a non-english into english\n",
    "def translate_text(text,target='en'):\n",
    "    translator = Translator()\n",
    "#     translate_client = translate.Client()\n",
    "#     data = translate_client.translate(text,target_language=target)\n",
    "    result = translator.translate(text, dest = target)\n",
    "#     result = data['translatedText']\n",
    "#     print(result.text)\n",
    "    return result.text\n",
    "\n"
   ]
  },
  {
   "cell_type": "markdown",
   "metadata": {},
   "source": [
    "#### Web Application"
   ]
  },
  {
   "cell_type": "code",
   "execution_count": null,
   "metadata": {},
   "outputs": [
    {
     "name": "stdout",
     "output_type": "stream",
     "text": [
      " * Serving Flask app \"__main__\" (lazy loading)\n",
      " * Environment: production\n",
      "   WARNING: This is a development server. Do not use it in a production deployment.\n",
      "   Use a production WSGI server instead.\n",
      " * Debug mode: off\n"
     ]
    },
    {
     "name": "stderr",
     "output_type": "stream",
     "text": [
      " * Running on http://127.0.0.1:5000/ (Press CTRL+C to quit)\n"
     ]
    }
   ],
   "source": [
    "app = Flask(__name__)\n",
    "\n",
    "@app.route('/')\n",
    "def index():\n",
    "    return render_template('index.html')\n",
    "\n",
    "@app.route('/about')\n",
    "def about():\n",
    "    return render_template('about.html')\n",
    "\n",
    "#to handle the behavior of an english song\n",
    "@app.route('/english',methods=['GET','POST']) \n",
    "def bynontranslating():\n",
    "    if request.method =='GET':\n",
    "        methods='GET'\n",
    "        return render_template('english.html',methods=methods)\n",
    "    elif request.method =='POST':\n",
    "        methods='POST'\n",
    "        song = request.form['lyrics']\n",
    "        data = [song]\n",
    "        vector = vectorizer()\n",
    "        cleanedtxt = vector.transform(data).toarray()\n",
    "        model = classifier()\n",
    "        my_prediction = model.predict(cleanedtxt)\n",
    "        val = model.predict_proba(cleanedtxt)\n",
    "        if (val[:,0] > val[:,1]):\n",
    "            prob = val[:,0]\n",
    "            prob = round(prob[0]*100,2)\n",
    "        else:\n",
    "            prob = val[:,1]\n",
    "            prob = round(prob[0]*100,2)\n",
    "        return render_template('english.html', methods=methods,prediction = my_prediction,lyrics=song, probability=prob)\n",
    "\n",
    "#to handle the behavior of a non-english song\n",
    "@app.route('/translator',methods=['GET','POST']) \n",
    "def bytranslating():\n",
    "    if request.method =='GET':\n",
    "        methods='GET'\n",
    "        return render_template('translator.html',methods=methods)\n",
    "    elif request.method =='POST':\n",
    "        methods='POST'\n",
    "        song = request.form['lyrics']\n",
    "        transsong = translate_text(song)\n",
    "        data = [transsong]\n",
    "#         print(data)\n",
    "        vector = vectorizer()\n",
    "#         print(vector)\n",
    "        cleanedtxt = vector.transform(data).todense()\n",
    "#         print(cleanedtxt)\n",
    "        model = classifier()\n",
    "        my_prediction = model.predict(cleanedtxt)\n",
    "        val = model.predict_proba(cleanedtxt)\n",
    "        if (val[:,0] > val[:,1]):\n",
    "            prob = val[:,0]\n",
    "            prob = round(prob[0]*100,2)\n",
    "        else:\n",
    "            prob = val[:,1]\n",
    "            prob = round(prob[0]*100,2)\n",
    "        return render_template('translator.html', methods=methods,prediction = my_prediction,lyrics=song, probability=prob)\n",
    "\n",
    "if __name__ == '__main__':\n",
    "    app.run(debug = False)\n",
    "#host='0.0.0.0'"
   ]
  },
  {
   "cell_type": "code",
   "execution_count": null,
   "metadata": {},
   "outputs": [],
   "source": []
  }
 ],
 "metadata": {
  "kernelspec": {
   "display_name": "Python 3",
   "language": "python",
   "name": "python3"
  },
  "language_info": {
   "codemirror_mode": {
    "name": "ipython",
    "version": 3
   },
   "file_extension": ".py",
   "mimetype": "text/x-python",
   "name": "python",
   "nbconvert_exporter": "python",
   "pygments_lexer": "ipython3",
   "version": "3.7.6"
  }
 },
 "nbformat": 4,
 "nbformat_minor": 2
}
