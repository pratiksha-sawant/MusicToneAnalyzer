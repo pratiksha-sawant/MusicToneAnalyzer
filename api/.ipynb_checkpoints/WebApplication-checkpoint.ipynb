{
 "cells": [
  {
   "cell_type": "code",
   "execution_count": 178,
   "metadata": {},
   "outputs": [],
   "source": [
    "# - *- coding: utf- 8 - *-\n",
    "from flask import Flask, render_template, redirect, url_for, request\n",
    "import requests as rq\n",
    "from flask_wtf import Form\n",
    "from wtforms import RadioField\n",
    "from wtforms import validators, ValidationError\n",
    "from sklearn.externals import joblib\n",
    "from sklearn.feature_extraction.text import TfidfVectorizer\n",
    "import pandas as pd\n",
    "from nltk.corpus import stopwords\n",
    "from google.cloud import translate\n",
    "import nltk\n",
    "import os\n",
    "import re\n"
   ]
  },
  {
   "cell_type": "markdown",
   "metadata": {},
   "source": [
    "#### Setting up the environment variable for Google API translator"
   ]
  },
  {
   "cell_type": "code",
   "execution_count": 186,
   "metadata": {},
   "outputs": [],
   "source": [
    "path = os.getcwd()+\"\\\\data\\\\PythonPractice-8acf4c31c000.json\" #json file with the API key\n",
    "\n",
    "os.environ['GOOGLE_APPLICATION_CREDENTIALS'] = path\n"
   ]
  },
  {
   "cell_type": "markdown",
   "metadata": {},
   "source": [
    "#### Functions defined for web page"
   ]
  },
  {
   "cell_type": "code",
   "execution_count": 187,
   "metadata": {},
   "outputs": [],
   "source": [
    "#vectorize the data\n",
    "def vectorizer():\n",
    "    # Load the model from the file \n",
    "    vect = joblib.load(os.getcwd()+'//data//vectorizer.pkl')\n",
    "    return vect\n",
    "\n",
    "#with the machine learning model\n",
    "def classifier():\n",
    "    # Load the model from the file \n",
    "    model_from_joblib = joblib.load(os.getcwd()+'//data//classifier.pkl')\n",
    "    return model_from_joblib\n",
    "\n",
    "#for translating a non-english into english\n",
    "def translate_text(text,target='en'):\n",
    "    translate_client = translate.Client()\n",
    "    data = translate_client.translate(text,target_language=target)\n",
    "    result = data['translatedText']\n",
    "    return result\n",
    "\n"
   ]
  },
  {
   "cell_type": "markdown",
   "metadata": {},
   "source": [
    "#### Web Application"
   ]
  },
  {
   "cell_type": "code",
   "execution_count": null,
   "metadata": {},
   "outputs": [
    {
     "name": "stderr",
     "output_type": "stream",
     "text": [
      " * Running on http://127.0.0.1:5000/ (Press CTRL+C to quit)\n",
      "127.0.0.1 - - [08/May/2019 16:04:56] \"GET / HTTP/1.1\" 200 -\n",
      "127.0.0.1 - - [08/May/2019 16:05:38] \"GET /translator HTTP/1.1\" 200 -\n",
      "127.0.0.1 - - [08/May/2019 16:05:42] \"GET /english HTTP/1.1\" 200 -\n",
      "127.0.0.1 - - [08/May/2019 16:05:48] \"GET /about HTTP/1.1\" 200 -\n",
      "127.0.0.1 - - [08/May/2019 16:05:51] \"GET / HTTP/1.1\" 200 -\n"
     ]
    }
   ],
   "source": [
    "app = Flask(__name__)\n",
    "\n",
    "@app.route('/')\n",
    "def index():\n",
    "    return render_template('index.html')\n",
    "\n",
    "@app.route('/about')\n",
    "def about():\n",
    "    return render_template('about.html')\n",
    "\n",
    "#to handle the behavior of an english song\n",
    "@app.route('/english',methods=['GET','POST']) \n",
    "def bynontranslating():\n",
    "    if request.method =='GET':\n",
    "        methods='GET'\n",
    "        return render_template('english.html',methods=methods)\n",
    "    elif request.method =='POST':\n",
    "        methods='POST'\n",
    "        song = request.form['lyrics']\n",
    "        data = [song]\n",
    "        vector = vectorizer()\n",
    "        cleanedtxt = vector.transform(data).toarray()\n",
    "        model = classifier()\n",
    "        my_prediction = model.predict(cleanedtxt)\n",
    "        return render_template('english.html', methods=methods,prediction = my_prediction,lyrics=song)\n",
    "\n",
    "#to handle the behavior of a non-english song\n",
    "@app.route('/translator',methods=['GET','POST']) \n",
    "def bytranslating():\n",
    "    if request.method =='GET':\n",
    "        methods='GET'\n",
    "        return render_template('translator.html',methods=methods)\n",
    "    elif request.method =='POST':\n",
    "        methods='POST'\n",
    "        song = request.form['lyrics']\n",
    "        transsong = translate_text(song)\n",
    "        data = [transsong]\n",
    "#         print(data)\n",
    "        vector = vectorizer()\n",
    "#         print(vector)\n",
    "        cleanedtxt = vector.transform(data).todense()\n",
    "#         print(cleanedtxt)\n",
    "        model = classifier()\n",
    "        my_prediction = model.predict(cleanedtxt)\n",
    "        return render_template('translator.html', methods=methods,prediction = my_prediction,lyrics=song)\n",
    "\n",
    "if __name__ == '__main__':\n",
    "    app.run(debug = False)\n",
    "#host='0.0.0.0'"
   ]
  },
  {
   "cell_type": "code",
   "execution_count": null,
   "metadata": {},
   "outputs": [],
   "source": []
  }
 ],
 "metadata": {
  "kernelspec": {
   "display_name": "Python 3",
   "language": "python",
   "name": "python3"
  },
  "language_info": {
   "codemirror_mode": {
    "name": "ipython",
    "version": 3
   },
   "file_extension": ".py",
   "mimetype": "text/x-python",
   "name": "python",
   "nbconvert_exporter": "python",
   "pygments_lexer": "ipython3",
   "version": "3.7.1"
  }
 },
 "nbformat": 4,
 "nbformat_minor": 2
}
